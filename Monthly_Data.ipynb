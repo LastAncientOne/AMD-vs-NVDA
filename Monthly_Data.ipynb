{
  "cells": [
    {
      "cell_type": "markdown",
      "source": [
        "# Monthly Data"
      ],
      "metadata": {
        "nteract": {
          "transient": {
            "deleting": false
          }
        }
      }
    },
    {
      "cell_type": "markdown",
      "source": [
        "### Yahoo Finance Data"
      ],
      "metadata": {
        "nteract": {
          "transient": {
            "deleting": false
          }
        }
      }
    },
    {
      "cell_type": "code",
      "source": [
        "import warnings\n",
        "warnings.filterwarnings(\"ignore\")\n",
        "\n",
        "import numpy as np\n",
        "import pandas as pd\n",
        "import matplotlib.pyplot as plt\n",
        "from matplotlib.pyplot import cm\n",
        "import seaborn as sns\n",
        "import math\n",
        "\n",
        "# yahoo finance is used to fetch data \n",
        "import yfinance as yf\n",
        "yf.pdr_override()"
      ],
      "outputs": [],
      "execution_count": 1,
      "metadata": {
        "collapsed": true,
        "jupyter": {
          "source_hidden": false,
          "outputs_hidden": false
        },
        "nteract": {
          "transient": {
            "deleting": false
          }
        },
        "execution": {
          "iopub.status.busy": "2023-10-01T05:35:22.140Z",
          "iopub.execute_input": "2023-10-01T05:35:22.145Z",
          "iopub.status.idle": "2023-10-01T05:35:23.688Z",
          "shell.execute_reply": "2023-10-01T05:35:23.722Z"
        }
      }
    },
    {
      "cell_type": "code",
      "source": [
        "# input\n",
        "# Technology Companies\n",
        "symbols = ['AMD','NVDA',] \n",
        "market = ['^GSPC']\n",
        "start = '2018-01-01'\n",
        "end = '2023-08-01'"
      ],
      "outputs": [],
      "execution_count": 2,
      "metadata": {
        "collapsed": true,
        "jupyter": {
          "source_hidden": false,
          "outputs_hidden": false
        },
        "nteract": {
          "transient": {
            "deleting": false
          }
        },
        "execution": {
          "iopub.status.busy": "2023-10-01T05:35:23.694Z",
          "iopub.execute_input": "2023-10-01T05:35:23.697Z",
          "iopub.status.idle": "2023-10-01T05:35:23.707Z",
          "shell.execute_reply": "2023-10-01T05:35:23.725Z"
        }
      }
    },
    {
      "cell_type": "code",
      "source": [
        "df = yf.download(symbols, start, end)\n",
        "benchmark = yf.download(market, start, end)"
      ],
      "outputs": [
        {
          "output_type": "stream",
          "name": "stdout",
          "text": [
            "[*********************100%***********************]  2 of 2 completed\n",
            "[*********************100%***********************]  1 of 1 completed\n"
          ]
        }
      ],
      "execution_count": 3,
      "metadata": {
        "collapsed": true,
        "jupyter": {
          "source_hidden": false,
          "outputs_hidden": false
        },
        "nteract": {
          "transient": {
            "deleting": false
          }
        },
        "execution": {
          "iopub.status.busy": "2023-10-01T05:35:23.714Z",
          "iopub.execute_input": "2023-10-01T05:35:23.718Z",
          "iopub.status.idle": "2023-10-01T05:35:25.403Z",
          "shell.execute_reply": "2023-10-01T05:35:25.395Z"
        }
      }
    },
    {
      "cell_type": "code",
      "source": [
        "# Resample the data of monthly frequency\n",
        "df_monthly = df['Adj Close'].resample('M').ffill()\n",
        "\n",
        "# Resample the benchmark data of monthly frequency\n",
        "benchmark_monthly = benchmark['Adj Close'].resample('M').ffill()"
      ],
      "outputs": [],
      "execution_count": 4,
      "metadata": {
        "collapsed": true,
        "jupyter": {
          "source_hidden": false,
          "outputs_hidden": false
        },
        "nteract": {
          "transient": {
            "deleting": false
          }
        },
        "execution": {
          "iopub.status.busy": "2023-10-01T05:35:25.410Z",
          "iopub.execute_input": "2023-10-01T05:35:25.416Z",
          "iopub.status.idle": "2023-10-01T05:35:25.424Z",
          "shell.execute_reply": "2023-10-01T05:35:25.532Z"
        }
      }
    },
    {
      "cell_type": "code",
      "source": [
        "df_monthly"
      ],
      "outputs": [
        {
          "output_type": "execute_result",
          "execution_count": 5,
          "data": {
            "text/plain": "                   AMD        NVDA\nDate                              \n2018-01-31   13.740000   60.808369\n2018-02-28   12.110000   59.905506\n2018-03-31   10.050000   57.328564\n2018-04-30   10.880000   55.672504\n2018-05-31   13.730000   62.466572\n...                ...         ...\n2023-03-31   98.010002  277.718353\n2023-04-30   89.370003  277.438416\n2023-05-31  118.209999  378.269684\n2023-06-30  113.910004  422.985138\n2023-07-31  114.400002  467.251526\n\n[67 rows x 2 columns]",
            "text/html": "<div>\n<style scoped>\n    .dataframe tbody tr th:only-of-type {\n        vertical-align: middle;\n    }\n\n    .dataframe tbody tr th {\n        vertical-align: top;\n    }\n\n    .dataframe thead th {\n        text-align: right;\n    }\n</style>\n<table border=\"1\" class=\"dataframe\">\n  <thead>\n    <tr style=\"text-align: right;\">\n      <th></th>\n      <th>AMD</th>\n      <th>NVDA</th>\n    </tr>\n    <tr>\n      <th>Date</th>\n      <th></th>\n      <th></th>\n    </tr>\n  </thead>\n  <tbody>\n    <tr>\n      <th>2018-01-31</th>\n      <td>13.740000</td>\n      <td>60.808369</td>\n    </tr>\n    <tr>\n      <th>2018-02-28</th>\n      <td>12.110000</td>\n      <td>59.905506</td>\n    </tr>\n    <tr>\n      <th>2018-03-31</th>\n      <td>10.050000</td>\n      <td>57.328564</td>\n    </tr>\n    <tr>\n      <th>2018-04-30</th>\n      <td>10.880000</td>\n      <td>55.672504</td>\n    </tr>\n    <tr>\n      <th>2018-05-31</th>\n      <td>13.730000</td>\n      <td>62.466572</td>\n    </tr>\n    <tr>\n      <th>...</th>\n      <td>...</td>\n      <td>...</td>\n    </tr>\n    <tr>\n      <th>2023-03-31</th>\n      <td>98.010002</td>\n      <td>277.718353</td>\n    </tr>\n    <tr>\n      <th>2023-04-30</th>\n      <td>89.370003</td>\n      <td>277.438416</td>\n    </tr>\n    <tr>\n      <th>2023-05-31</th>\n      <td>118.209999</td>\n      <td>378.269684</td>\n    </tr>\n    <tr>\n      <th>2023-06-30</th>\n      <td>113.910004</td>\n      <td>422.985138</td>\n    </tr>\n    <tr>\n      <th>2023-07-31</th>\n      <td>114.400002</td>\n      <td>467.251526</td>\n    </tr>\n  </tbody>\n</table>\n<p>67 rows × 2 columns</p>\n</div>"
          },
          "metadata": {}
        }
      ],
      "execution_count": 5,
      "metadata": {
        "collapsed": true,
        "jupyter": {
          "source_hidden": false,
          "outputs_hidden": false
        },
        "nteract": {
          "transient": {
            "deleting": false
          }
        },
        "execution": {
          "iopub.status.busy": "2023-10-01T05:35:25.430Z",
          "iopub.execute_input": "2023-10-01T05:35:25.433Z",
          "iopub.status.idle": "2023-10-01T05:35:25.444Z",
          "shell.execute_reply": "2023-10-01T05:35:25.535Z"
        }
      }
    },
    {
      "cell_type": "code",
      "source": [
        "df_monthly.head()   "
      ],
      "outputs": [
        {
          "output_type": "execute_result",
          "execution_count": 6,
          "data": {
            "text/plain": "              AMD       NVDA\nDate                        \n2018-01-31  13.74  60.808369\n2018-02-28  12.11  59.905506\n2018-03-31  10.05  57.328564\n2018-04-30  10.88  55.672504\n2018-05-31  13.73  62.466572",
            "text/html": "<div>\n<style scoped>\n    .dataframe tbody tr th:only-of-type {\n        vertical-align: middle;\n    }\n\n    .dataframe tbody tr th {\n        vertical-align: top;\n    }\n\n    .dataframe thead th {\n        text-align: right;\n    }\n</style>\n<table border=\"1\" class=\"dataframe\">\n  <thead>\n    <tr style=\"text-align: right;\">\n      <th></th>\n      <th>AMD</th>\n      <th>NVDA</th>\n    </tr>\n    <tr>\n      <th>Date</th>\n      <th></th>\n      <th></th>\n    </tr>\n  </thead>\n  <tbody>\n    <tr>\n      <th>2018-01-31</th>\n      <td>13.74</td>\n      <td>60.808369</td>\n    </tr>\n    <tr>\n      <th>2018-02-28</th>\n      <td>12.11</td>\n      <td>59.905506</td>\n    </tr>\n    <tr>\n      <th>2018-03-31</th>\n      <td>10.05</td>\n      <td>57.328564</td>\n    </tr>\n    <tr>\n      <th>2018-04-30</th>\n      <td>10.88</td>\n      <td>55.672504</td>\n    </tr>\n    <tr>\n      <th>2018-05-31</th>\n      <td>13.73</td>\n      <td>62.466572</td>\n    </tr>\n  </tbody>\n</table>\n</div>"
          },
          "metadata": {}
        }
      ],
      "execution_count": 6,
      "metadata": {
        "collapsed": true,
        "jupyter": {
          "source_hidden": false,
          "outputs_hidden": false
        },
        "nteract": {
          "transient": {
            "deleting": false
          }
        },
        "execution": {
          "iopub.status.busy": "2023-10-01T05:35:25.449Z",
          "iopub.execute_input": "2023-10-01T05:35:25.454Z",
          "iopub.status.idle": "2023-10-01T05:35:25.464Z",
          "shell.execute_reply": "2023-10-01T05:35:25.538Z"
        }
      }
    },
    {
      "cell_type": "code",
      "source": [
        "df_monthly.tail()"
      ],
      "outputs": [
        {
          "output_type": "execute_result",
          "execution_count": 7,
          "data": {
            "text/plain": "                   AMD        NVDA\nDate                              \n2023-03-31   98.010002  277.718353\n2023-04-30   89.370003  277.438416\n2023-05-31  118.209999  378.269684\n2023-06-30  113.910004  422.985138\n2023-07-31  114.400002  467.251526",
            "text/html": "<div>\n<style scoped>\n    .dataframe tbody tr th:only-of-type {\n        vertical-align: middle;\n    }\n\n    .dataframe tbody tr th {\n        vertical-align: top;\n    }\n\n    .dataframe thead th {\n        text-align: right;\n    }\n</style>\n<table border=\"1\" class=\"dataframe\">\n  <thead>\n    <tr style=\"text-align: right;\">\n      <th></th>\n      <th>AMD</th>\n      <th>NVDA</th>\n    </tr>\n    <tr>\n      <th>Date</th>\n      <th></th>\n      <th></th>\n    </tr>\n  </thead>\n  <tbody>\n    <tr>\n      <th>2023-03-31</th>\n      <td>98.010002</td>\n      <td>277.718353</td>\n    </tr>\n    <tr>\n      <th>2023-04-30</th>\n      <td>89.370003</td>\n      <td>277.438416</td>\n    </tr>\n    <tr>\n      <th>2023-05-31</th>\n      <td>118.209999</td>\n      <td>378.269684</td>\n    </tr>\n    <tr>\n      <th>2023-06-30</th>\n      <td>113.910004</td>\n      <td>422.985138</td>\n    </tr>\n    <tr>\n      <th>2023-07-31</th>\n      <td>114.400002</td>\n      <td>467.251526</td>\n    </tr>\n  </tbody>\n</table>\n</div>"
          },
          "metadata": {}
        }
      ],
      "execution_count": 7,
      "metadata": {
        "collapsed": true,
        "jupyter": {
          "source_hidden": false,
          "outputs_hidden": false
        },
        "nteract": {
          "transient": {
            "deleting": false
          }
        },
        "execution": {
          "iopub.status.busy": "2023-10-01T05:35:25.470Z",
          "iopub.execute_input": "2023-10-01T05:35:25.473Z",
          "iopub.status.idle": "2023-10-01T05:35:25.483Z",
          "shell.execute_reply": "2023-10-01T05:35:25.540Z"
        }
      }
    },
    {
      "cell_type": "code",
      "source": [
        "benchmark_monthly"
      ],
      "outputs": [
        {
          "output_type": "execute_result",
          "execution_count": 8,
          "data": {
            "text/plain": "Date\n2018-01-31    2823.810059\n2018-02-28    2713.830078\n2018-03-31    2640.870117\n2018-04-30    2648.050049\n2018-05-31    2705.270020\n                 ...     \n2023-03-31    4109.310059\n2023-04-30    4169.479980\n2023-05-31    4179.830078\n2023-06-30    4450.379883\n2023-07-31    4588.959961\nFreq: M, Name: Adj Close, Length: 67, dtype: float64"
          },
          "metadata": {}
        }
      ],
      "execution_count": 8,
      "metadata": {
        "collapsed": true,
        "jupyter": {
          "source_hidden": false,
          "outputs_hidden": false
        },
        "nteract": {
          "transient": {
            "deleting": false
          }
        },
        "execution": {
          "iopub.status.busy": "2023-10-01T05:35:25.490Z",
          "iopub.execute_input": "2023-10-01T05:35:25.493Z",
          "iopub.status.idle": "2023-10-01T05:35:25.502Z",
          "shell.execute_reply": "2023-10-01T05:35:25.542Z"
        }
      }
    }
  ],
  "metadata": {
    "kernel_info": {
      "name": "python3"
    },
    "language_info": {
      "name": "python",
      "version": "3.7.6",
      "mimetype": "text/x-python",
      "codemirror_mode": {
        "name": "ipython",
        "version": 3
      },
      "pygments_lexer": "ipython3",
      "nbconvert_exporter": "python",
      "file_extension": ".py"
    },
    "kernelspec": {
      "argv": [
        "C:/Users/Tin Hang/anaconda3\\python.exe",
        "-m",
        "ipykernel_launcher",
        "-f",
        "{connection_file}"
      ],
      "display_name": "Python 3",
      "language": "python",
      "name": "python3"
    },
    "nteract": {
      "version": "0.28.0"
    }
  },
  "nbformat": 4,
  "nbformat_minor": 0
}