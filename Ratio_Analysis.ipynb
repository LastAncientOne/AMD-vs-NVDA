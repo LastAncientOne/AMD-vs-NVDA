{
  "cells": [
    {
      "cell_type": "markdown",
      "source": [
        "# Ratio Analysis"
      ],
      "metadata": {
        "nteract": {
          "transient": {
            "deleting": false
          }
        }
      }
    },
    {
      "cell_type": "code",
      "source": [
        "import warnings\n",
        "warnings.filterwarnings(\"ignore\")\n",
        "\n",
        "import numpy as np\n",
        "import pandas as pd\n",
        "\n",
        "# yahoo finance is used to fetch data \n",
        "import yfinance as yf\n",
        "yf.pdr_override()"
      ],
      "outputs": [],
      "execution_count": 1,
      "metadata": {
        "collapsed": true,
        "jupyter": {
          "source_hidden": false,
          "outputs_hidden": false
        },
        "nteract": {
          "transient": {
            "deleting": false
          }
        },
        "execution": {
          "iopub.status.busy": "2023-10-01T17:06:04.765Z",
          "iopub.execute_input": "2023-10-01T17:06:04.770Z",
          "iopub.status.idle": "2023-10-01T17:06:05.987Z",
          "shell.execute_reply": "2023-10-01T17:06:05.984Z"
        }
      }
    },
    {
      "cell_type": "code",
      "source": [
        "# input\n",
        "# Technology Companies\n",
        "symbols = ['AMD','NVDA'] \n",
        "market = ['^GSPC']\n",
        "start = '2018-01-01'\n",
        "end = '2023-08-01'"
      ],
      "outputs": [],
      "execution_count": 2,
      "metadata": {
        "collapsed": true,
        "jupyter": {
          "source_hidden": false,
          "outputs_hidden": false
        },
        "nteract": {
          "transient": {
            "deleting": false
          }
        },
        "execution": {
          "iopub.status.busy": "2023-10-01T17:06:05.993Z",
          "iopub.execute_input": "2023-10-01T17:06:05.996Z",
          "iopub.status.idle": "2023-10-01T17:06:06.002Z",
          "shell.execute_reply": "2023-10-01T17:06:06.018Z"
        }
      }
    },
    {
      "cell_type": "code",
      "source": [
        "df = yf.download(symbols, start, end)\n",
        "benchmark = yf.download(market, start, end)"
      ],
      "outputs": [
        {
          "output_type": "stream",
          "name": "stdout",
          "text": [
            "[*********************100%***********************]  2 of 2 completed\n",
            "[*********************100%***********************]  1 of 1 completed\n"
          ]
        }
      ],
      "execution_count": 3,
      "metadata": {
        "collapsed": true,
        "jupyter": {
          "source_hidden": false,
          "outputs_hidden": false
        },
        "nteract": {
          "transient": {
            "deleting": false
          }
        },
        "execution": {
          "iopub.status.busy": "2023-10-01T17:06:06.006Z",
          "iopub.execute_input": "2023-10-01T17:06:06.010Z",
          "shell.execute_reply": "2023-10-01T17:06:07.003Z",
          "iopub.status.idle": "2023-10-01T17:06:06.991Z"
        }
      }
    },
    {
      "cell_type": "code",
      "source": [
        "# Resample the data to monthly frequency\n",
        "df_monthly = df['Adj Close'].resample('M').ffill()\n",
        "benchmark_monthly = benchmark['Adj Close'].resample('M').ffill()\n",
        "\n"
      ],
      "outputs": [],
      "execution_count": 4,
      "metadata": {
        "collapsed": true,
        "jupyter": {
          "source_hidden": false,
          "outputs_hidden": false
        },
        "nteract": {
          "transient": {
            "deleting": false
          }
        },
        "execution": {
          "iopub.status.busy": "2023-10-01T17:06:06.996Z",
          "iopub.execute_input": "2023-10-01T17:06:06.999Z",
          "iopub.status.idle": "2023-10-01T17:06:07.024Z",
          "shell.execute_reply": "2023-10-01T17:06:07.020Z"
        }
      }
    },
    {
      "cell_type": "code",
      "source": [
        "# Calculate daily returns\n",
        "returns = df_monthly.pct_change().fillna(0)\n",
        "# Calculate benchmark returns\n",
        "benchmark_returns = benchmark['Adj Close'].pct_change().fillna(0)\n"
      ],
      "outputs": [],
      "execution_count": 5,
      "metadata": {
        "collapsed": true,
        "jupyter": {
          "source_hidden": false,
          "outputs_hidden": false
        },
        "nteract": {
          "transient": {
            "deleting": false
          }
        },
        "execution": {
          "iopub.status.busy": "2023-10-01T17:06:07.029Z",
          "iopub.execute_input": "2023-10-01T17:06:07.031Z",
          "iopub.status.idle": "2023-10-01T17:06:07.035Z",
          "shell.execute_reply": "2023-10-01T17:06:07.048Z"
        }
      }
    },
    {
      "cell_type": "code",
      "source": [
        "import warnings\n",
        "warnings.filterwarnings(\"ignore\")\n",
        "\n",
        "import numpy as np\n",
        "import pandas as pd\n",
        "import yfinance as yf\n",
        "yf.pdr_override()\n",
        "\n",
        "# Define the list of stock symbols and the market symbol\n",
        "symbols = ['AMD', 'NVDA']\n",
        "market = ['^GSPC']\n",
        "start = '2018-01-01'\n",
        "end = '2023-08-01'\n",
        "\n",
        "# Download stock and market data\n",
        "df = yf.download(symbols, start, end)\n",
        "benchmark = yf.download(market, start, end)\n",
        "\n",
        "# Resample the data to monthly frequency\n",
        "df_monthly = df['Adj Close'].resample('M').ffill()\n",
        "benchmark_monthly = benchmark['Adj Close'].resample('M').ffill()\n",
        "\n",
        "# Initialize a DataFrame to store the results\n",
        "results = pd.DataFrame()\n",
        "\n",
        "# Loop through each stock symbol\n",
        "for symbol in symbols:\n",
        "    stock_data = df_monthly[symbol]\n",
        "    \n",
        "    # Calculate monthly returns\n",
        "    monthly_returns = stock_data.pct_change()\n",
        "    \n",
        "    # Calculate the metrics you mentioned\n",
        "    average_returns = monthly_returns.mean()\n",
        "    std_deviation = monthly_returns.std()\n",
        "    annual_trading = len(stock_data) / 12\n",
        "    count_decrease = len(monthly_returns[monthly_returns < 0])\n",
        "    count_increase = len(monthly_returns[monthly_returns > 0])\n",
        "    total_rows = len(monthly_returns)\n",
        "    sharpe_ratio = (average_returns - Risk_Free_Rate) / std_deviation\n",
        "    sharpe_ratio_trading = (average_returns - Risk_Free_Rate) / np.sqrt(annual_trading) * std_deviation\n",
        "    roi = (stock_data[-1] / stock_data[0]) - 1\n",
        "    cagr = (stock_data[-1] / stock_data[0]) ** (1 / (total_rows / 12)) - 1\n",
        "    loss_rate = count_decrease / total_rows\n",
        "    win_rate = count_increase / total_rows\n",
        "    \n",
        "    # Store the results in a DataFrame\n",
        "    results[symbol] = [average_returns, std_deviation, annual_trading, beta, alpha, r_squared, \n",
        "                       count_decrease, count_increase, total_rows, sharpe_ratio, sharpe_ratio_trading,\n",
        "                       roi, cagr, loss_rate, win_rate]\n",
        "\n",
        "# Set the column names\n",
        "results.index = ['Average Returns', 'Standard Deviation', 'Annual Trading', 'Beta', 'Alpha', 'R-Squared',\n",
        "                 'Count Number of Decrease', 'Count Number of Increase', 'Total Rows', 'Sharpe Ratio',\n",
        "                 'Sharpe Ratio Trading', 'Return on Investment (ROI)', 'Compound Annual Growth Rate (CAGR)',\n",
        "                 'Loss Rate', 'Win Rate']\n",
        "\n",
        "# Transpose the results for a better view\n",
        "results = results.T\n",
        "\n",
        "# Print the results\n",
        "print(results)"
      ],
      "outputs": [
        {
          "output_type": "stream",
          "name": "stdout",
          "text": [
            "[*********************100%***********************]  2 of 2 completed\n",
            "[*********************100%***********************]  1 of 1 completed\n",
            "      Average Returns  Standard Deviation  Annual Trading  Beta  Alpha  \\\n",
            "AMD          0.046567            0.169421        5.583333   NaN    NaN   \n",
            "NVDA         0.042143            0.147404        5.583333   NaN    NaN   \n",
            "\n",
            "      R-Squared  Count Number of Decrease  Count Number of Increase  \\\n",
            "AMD         NaN                      28.0                      37.0   \n",
            "NVDA        NaN                      25.0                      41.0   \n",
            "\n",
            "      Total Rows  Sharpe Ratio  Sharpe Ratio Trading  \\\n",
            "AMD         67.0      0.268960              0.003267   \n",
            "NVDA        67.0      0.279115              0.002567   \n",
            "\n",
            "      Return on Investment (ROI)  Compound Annual Growth Rate (CAGR)  \\\n",
            "AMD                     7.326056                            0.461688   \n",
            "NVDA                    6.683999                            0.440830   \n",
            "\n",
            "      Loss Rate  Win Rate  \n",
            "AMD    0.417910  0.552239  \n",
            "NVDA   0.373134  0.611940  \n"
          ]
        }
      ],
      "execution_count": 8,
      "metadata": {
        "collapsed": true,
        "jupyter": {
          "source_hidden": false,
          "outputs_hidden": false
        },
        "nteract": {
          "transient": {
            "deleting": false
          }
        },
        "execution": {
          "iopub.status.busy": "2023-10-01T17:07:10.305Z",
          "iopub.execute_input": "2023-10-01T17:07:10.308Z",
          "shell.execute_reply": "2023-10-01T17:07:10.850Z",
          "iopub.status.idle": "2023-10-01T17:07:10.856Z"
        }
      }
    },
    {
      "cell_type": "code",
      "source": [
        "import warnings\n",
        "warnings.filterwarnings(\"ignore\")\n",
        "\n",
        "import numpy as np\n",
        "import pandas as pd\n",
        "\n",
        "# yahoo finance is used to fetch data \n",
        "import yfinance as yf\n",
        "yf.pdr_override()\n",
        "\n",
        "symbols = ['AMD', 'NVDA']\n",
        "market = ['^GSPC']\n",
        "start = '2018-01-01'\n",
        "end = '2023-08-01'\n",
        "\n",
        "df = yf.download(symbols, start, end)\n",
        "benchmark = yf.download(market, start, end)\n",
        "\n",
        "# Resample the data to monthly frequency\n",
        "df_monthly = df['Adj Close'].resample('M').ffill()\n",
        "benchmark_monthly = benchmark['Adj Close'].resample('M').ffill()\n",
        "\n",
        "# Create an empty DataFrame to store monthly returns\n",
        "monthly_returns = pd.DataFrame()\n",
        "\n",
        "# Calculate monthly returns for each stock\n",
        "for symbol in symbols:\n",
        "    stock_prices = df_monthly[symbol]\n",
        "    stock_returns = stock_prices.pct_change()\n",
        "    monthly_returns[symbol] = stock_returns\n",
        "\n",
        "# Calculate the market (benchmark) returns\n",
        "market_returns = benchmark_monthly.pct_change()\n",
        "monthly_returns['Market'] = market_returns\n",
        "\n",
        "# Calculate excess returns for each stock\n",
        "for symbol in symbols:\n",
        "    monthly_returns[f'{symbol}_Excess_Return'] = monthly_returns[symbol] - monthly_returns['Market']\n",
        "\n",
        "# Calculate the risk-free rate\n",
        "Risk_Free_Rate = 0.001\n",
        "monthly_returns['Risk_Free_Rate'] = Risk_Free_Rate / 12\n",
        "\n",
        "# Calculate Alpha, Beta, and R-Squared for each stock\n",
        "for symbol in symbols:\n",
        "    cov_matrix = monthly_returns[[symbol, 'Market']].cov()\n",
        "    beta = cov_matrix.iloc[0, 1] / cov_matrix.iloc[1, 1]\n",
        "    alpha = (monthly_returns[symbol].mean() - monthly_returns['Risk_Free_Rate'].mean()) - beta * (monthly_returns['Market'].mean() - monthly_returns['Risk_Free_Rate'].mean())\n",
        "    r_squared = cov_matrix.iloc[0, 1] / (monthly_returns['Market'].var())\n",
        "    print(f'Stock: {symbol}')\n",
        "    print(f'Alpha: {alpha}')\n",
        "    print(f'Beta: {beta}')\n",
        "    print(f'R-Squared: {r_squared}')\n",
        "    print('---')\n",
        "\n",
        "# Print the monthly returns DataFrame\n",
        "print(monthly_returns)"
      ],
      "outputs": [
        {
          "output_type": "stream",
          "name": "stdout",
          "text": [
            "[*********************100%***********************]  2 of 2 completed\n",
            "[*********************100%***********************]  1 of 1 completed\n",
            "Stock: AMD\n",
            "Alpha: 0.030006043361696967\n",
            "Beta: 1.9029536106821678\n",
            "R-Squared: 1.9029536106821678\n",
            "---\n",
            "Stock: NVDA\n",
            "Alpha: 0.02690257912661058\n",
            "Beta: 1.750360918894058\n",
            "R-Squared: 1.750360918894058\n",
            "---\n",
            "                 AMD      NVDA    Market  AMD_Excess_Return  \\\n",
            "Date                                                          \n",
            "2018-01-31       NaN       NaN       NaN                NaN   \n",
            "2018-02-28 -0.118632 -0.014848 -0.038947          -0.079684   \n",
            "2018-03-31 -0.170107 -0.043017 -0.026884          -0.143223   \n",
            "2018-04-30  0.082587 -0.028887  0.002719           0.079868   \n",
            "2018-05-31  0.261948  0.122036  0.021608           0.240340   \n",
            "...              ...       ...       ...                ...   \n",
            "2023-03-31  0.247264  0.196662  0.035052           0.212212   \n",
            "2023-04-30 -0.088154 -0.001008  0.014642          -0.102797   \n",
            "2023-05-31  0.322703  0.363437  0.002482           0.320221   \n",
            "2023-06-30 -0.036376  0.118211  0.064727          -0.101103   \n",
            "2023-07-31  0.004302  0.104652  0.031139          -0.026837   \n",
            "\n",
            "            NVDA_Excess_Return  Risk_Free_Rate  \n",
            "Date                                            \n",
            "2018-01-31                 NaN        0.000083  \n",
            "2018-02-28            0.024100        0.000083  \n",
            "2018-03-31           -0.016132        0.000083  \n",
            "2018-04-30           -0.031606        0.000083  \n",
            "2018-05-31            0.100428        0.000083  \n",
            "...                        ...             ...  \n",
            "2023-03-31            0.161611        0.000083  \n",
            "2023-04-30           -0.015650        0.000083  \n",
            "2023-05-31            0.360954        0.000083  \n",
            "2023-06-30            0.053483        0.000083  \n",
            "2023-07-31            0.073513        0.000083  \n",
            "\n",
            "[67 rows x 6 columns]\n"
          ]
        }
      ],
      "execution_count": 9,
      "metadata": {
        "collapsed": true,
        "jupyter": {
          "source_hidden": false,
          "outputs_hidden": false
        },
        "nteract": {
          "transient": {
            "deleting": false
          }
        },
        "execution": {
          "iopub.status.busy": "2023-10-01T17:09:14.267Z",
          "iopub.execute_input": "2023-10-01T17:09:14.272Z",
          "shell.execute_reply": "2023-10-01T17:09:14.837Z",
          "iopub.status.idle": "2023-10-01T17:09:14.844Z"
        }
      }
    }
  ],
  "metadata": {
    "kernel_info": {
      "name": "python3"
    },
    "language_info": {
      "name": "python",
      "version": "3.7.6",
      "mimetype": "text/x-python",
      "codemirror_mode": {
        "name": "ipython",
        "version": 3
      },
      "pygments_lexer": "ipython3",
      "nbconvert_exporter": "python",
      "file_extension": ".py"
    },
    "kernelspec": {
      "argv": [
        "C:/Users/Tin Hang/anaconda3\\python.exe",
        "-m",
        "ipykernel_launcher",
        "-f",
        "{connection_file}"
      ],
      "display_name": "Python 3",
      "language": "python",
      "name": "python3"
    },
    "nteract": {
      "version": "0.28.0"
    }
  },
  "nbformat": 4,
  "nbformat_minor": 0
}