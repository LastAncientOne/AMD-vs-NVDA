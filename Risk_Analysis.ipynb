{
  "cells": [
    {
      "cell_type": "markdown",
      "source": [
        "# Risk Analysis"
      ],
      "metadata": {
        "nteract": {
          "transient": {
            "deleting": false
          }
        }
      }
    },
    {
      "cell_type": "markdown",
      "source": [
        "#### Risk analysis is a systematic process used by organizations to identify, assess, and mitigate potential threats and uncertainties that could impact their objectives. It involves evaluating the likelihood and potential consequences of various risks, such as financial, operational, or strategic, to make informed decisions about risk management strategies. By quantifying and prioritizing risks, businesses can allocate resources effectively, implement preventive measures, and develop contingency plans, ultimately enhancing their ability to navigate uncertainties and achieve their goals while minimizing potential losses."
      ],
      "metadata": {
        "nteract": {
          "transient": {
            "deleting": false
          }
        }
      }
    },
    {
      "cell_type": "code",
      "source": [
        "import warnings\n",
        "warnings.filterwarnings(\"ignore\")\n",
        "\n",
        "import numpy as np\n",
        "import pandas as pd\n",
        "\n",
        "# yahoo finance is used to fetch data \n",
        "import yfinance as yf\n",
        "yf.pdr_override()"
      ],
      "outputs": [],
      "execution_count": 1,
      "metadata": {
        "collapsed": true,
        "jupyter": {
          "source_hidden": false,
          "outputs_hidden": false
        },
        "nteract": {
          "transient": {
            "deleting": false
          }
        },
        "execution": {
          "iopub.status.busy": "2023-10-01T06:01:33.233Z",
          "iopub.execute_input": "2023-10-01T06:01:33.237Z",
          "iopub.status.idle": "2023-10-01T06:01:33.519Z",
          "shell.execute_reply": "2023-10-01T06:01:33.551Z"
        }
      }
    },
    {
      "cell_type": "code",
      "source": [
        "# input\n",
        "# Technology Companies\n",
        "symbols = ['AMD','NVDA'] \n",
        "market = ['^GSPC']\n",
        "start = '2018-01-01'\n",
        "end = '2023-08-01'"
      ],
      "outputs": [],
      "execution_count": 2,
      "metadata": {
        "collapsed": true,
        "jupyter": {
          "source_hidden": false,
          "outputs_hidden": false
        },
        "nteract": {
          "transient": {
            "deleting": false
          }
        },
        "execution": {
          "iopub.status.busy": "2023-10-01T06:01:33.524Z",
          "iopub.execute_input": "2023-10-01T06:01:33.528Z",
          "iopub.status.idle": "2023-10-01T06:01:33.535Z",
          "shell.execute_reply": "2023-10-01T06:01:33.554Z"
        }
      }
    },
    {
      "cell_type": "code",
      "source": [
        "df = yf.download(symbols, start, end)\n",
        "benchmark = yf.download(market, start, end)"
      ],
      "outputs": [
        {
          "output_type": "stream",
          "name": "stdout",
          "text": [
            "[*********************100%***********************]  2 of 2 completed\n",
            "[*********************100%***********************]  1 of 1 completed\n"
          ]
        }
      ],
      "execution_count": 3,
      "metadata": {
        "collapsed": true,
        "jupyter": {
          "source_hidden": false,
          "outputs_hidden": false
        },
        "nteract": {
          "transient": {
            "deleting": false
          }
        },
        "execution": {
          "iopub.status.busy": "2023-10-01T06:01:33.540Z",
          "iopub.execute_input": "2023-10-01T06:01:33.543Z",
          "shell.execute_reply": "2023-10-01T06:01:34.229Z",
          "iopub.status.idle": "2023-10-01T06:01:34.236Z"
        }
      }
    },
    {
      "cell_type": "code",
      "source": [
        "# Resample the data to monthly frequency\n",
        "df_monthly = df['Adj Close'].resample('M').ffill()\n",
        "benchmark_monthly = benchmark['Adj Close'].resample('M').ffill()\n",
        "\n",
        "# Calculate daily returns\n",
        "returns = df_monthly.pct_change().fillna(0)"
      ],
      "outputs": [],
      "execution_count": 4,
      "metadata": {
        "collapsed": true,
        "jupyter": {
          "source_hidden": false,
          "outputs_hidden": false
        },
        "nteract": {
          "transient": {
            "deleting": false
          }
        },
        "execution": {
          "iopub.status.busy": "2023-10-01T06:01:34.241Z",
          "iopub.execute_input": "2023-10-01T06:01:34.246Z",
          "iopub.status.idle": "2023-10-01T06:01:34.251Z",
          "shell.execute_reply": "2023-10-01T06:01:34.365Z"
        }
      }
    },
    {
      "cell_type": "code",
      "source": [
        "returns.head()"
      ],
      "outputs": [
        {
          "output_type": "execute_result",
          "execution_count": 5,
          "data": {
            "text/plain": "                 AMD      NVDA\nDate                          \n2018-01-31  0.000000  0.000000\n2018-02-28 -0.118632 -0.014848\n2018-03-31 -0.170107 -0.043016\n2018-04-30  0.082587 -0.028887\n2018-05-31  0.261948  0.122036",
            "text/html": "<div>\n<style scoped>\n    .dataframe tbody tr th:only-of-type {\n        vertical-align: middle;\n    }\n\n    .dataframe tbody tr th {\n        vertical-align: top;\n    }\n\n    .dataframe thead th {\n        text-align: right;\n    }\n</style>\n<table border=\"1\" class=\"dataframe\">\n  <thead>\n    <tr style=\"text-align: right;\">\n      <th></th>\n      <th>AMD</th>\n      <th>NVDA</th>\n    </tr>\n    <tr>\n      <th>Date</th>\n      <th></th>\n      <th></th>\n    </tr>\n  </thead>\n  <tbody>\n    <tr>\n      <th>2018-01-31</th>\n      <td>0.000000</td>\n      <td>0.000000</td>\n    </tr>\n    <tr>\n      <th>2018-02-28</th>\n      <td>-0.118632</td>\n      <td>-0.014848</td>\n    </tr>\n    <tr>\n      <th>2018-03-31</th>\n      <td>-0.170107</td>\n      <td>-0.043016</td>\n    </tr>\n    <tr>\n      <th>2018-04-30</th>\n      <td>0.082587</td>\n      <td>-0.028887</td>\n    </tr>\n    <tr>\n      <th>2018-05-31</th>\n      <td>0.261948</td>\n      <td>0.122036</td>\n    </tr>\n  </tbody>\n</table>\n</div>"
          },
          "metadata": {}
        }
      ],
      "execution_count": 5,
      "metadata": {
        "collapsed": true,
        "jupyter": {
          "source_hidden": false,
          "outputs_hidden": false
        },
        "nteract": {
          "transient": {
            "deleting": false
          }
        },
        "execution": {
          "iopub.status.busy": "2023-10-01T06:01:34.257Z",
          "iopub.execute_input": "2023-10-01T06:01:34.260Z",
          "iopub.status.idle": "2023-10-01T06:01:34.269Z",
          "shell.execute_reply": "2023-10-01T06:01:34.368Z"
        }
      }
    },
    {
      "cell_type": "code",
      "source": [
        "returns.tail()"
      ],
      "outputs": [
        {
          "output_type": "execute_result",
          "execution_count": 6,
          "data": {
            "text/plain": "                 AMD      NVDA\nDate                          \n2023-03-31  0.247264  0.196662\n2023-04-30 -0.088154 -0.001008\n2023-05-31  0.322703  0.363437\n2023-06-30 -0.036376  0.118211\n2023-07-31  0.004302  0.104652",
            "text/html": "<div>\n<style scoped>\n    .dataframe tbody tr th:only-of-type {\n        vertical-align: middle;\n    }\n\n    .dataframe tbody tr th {\n        vertical-align: top;\n    }\n\n    .dataframe thead th {\n        text-align: right;\n    }\n</style>\n<table border=\"1\" class=\"dataframe\">\n  <thead>\n    <tr style=\"text-align: right;\">\n      <th></th>\n      <th>AMD</th>\n      <th>NVDA</th>\n    </tr>\n    <tr>\n      <th>Date</th>\n      <th></th>\n      <th></th>\n    </tr>\n  </thead>\n  <tbody>\n    <tr>\n      <th>2023-03-31</th>\n      <td>0.247264</td>\n      <td>0.196662</td>\n    </tr>\n    <tr>\n      <th>2023-04-30</th>\n      <td>-0.088154</td>\n      <td>-0.001008</td>\n    </tr>\n    <tr>\n      <th>2023-05-31</th>\n      <td>0.322703</td>\n      <td>0.363437</td>\n    </tr>\n    <tr>\n      <th>2023-06-30</th>\n      <td>-0.036376</td>\n      <td>0.118211</td>\n    </tr>\n    <tr>\n      <th>2023-07-31</th>\n      <td>0.004302</td>\n      <td>0.104652</td>\n    </tr>\n  </tbody>\n</table>\n</div>"
          },
          "metadata": {}
        }
      ],
      "execution_count": 6,
      "metadata": {
        "collapsed": true,
        "jupyter": {
          "source_hidden": false,
          "outputs_hidden": false
        },
        "nteract": {
          "transient": {
            "deleting": false
          }
        },
        "execution": {
          "iopub.status.busy": "2023-10-01T06:01:34.274Z",
          "iopub.execute_input": "2023-10-01T06:01:34.277Z",
          "iopub.status.idle": "2023-10-01T06:01:34.286Z",
          "shell.execute_reply": "2023-10-01T06:01:34.370Z"
        }
      }
    },
    {
      "cell_type": "code",
      "source": [
        "def calculate_drawdowns(returns):\n",
        "    wealth_index = (1 + returns).cumprod()\n",
        "    previous_peaks = wealth_index.cummax()\n",
        "    drawdowns = (wealth_index - previous_peaks) / previous_peaks\n",
        "    return drawdowns\n",
        "\n",
        "Drawdowns = calculate_drawdowns(returns)"
      ],
      "outputs": [],
      "execution_count": 7,
      "metadata": {
        "collapsed": true,
        "jupyter": {
          "source_hidden": false,
          "outputs_hidden": false
        },
        "nteract": {
          "transient": {
            "deleting": false
          }
        },
        "execution": {
          "iopub.status.busy": "2023-10-01T06:01:34.291Z",
          "iopub.execute_input": "2023-10-01T06:01:34.295Z",
          "iopub.status.idle": "2023-10-01T06:01:34.301Z",
          "shell.execute_reply": "2023-10-01T06:01:34.373Z"
        }
      }
    },
    {
      "cell_type": "code",
      "source": [
        "Drawdowns.head()"
      ],
      "outputs": [
        {
          "output_type": "execute_result",
          "execution_count": 8,
          "data": {
            "text/plain": "                 AMD      NVDA\nDate                          \n2018-01-31  0.000000  0.000000\n2018-02-28 -0.118632 -0.014848\n2018-03-31 -0.268559 -0.057226\n2018-04-30 -0.208151 -0.084460\n2018-05-31 -0.000728  0.000000",
            "text/html": "<div>\n<style scoped>\n    .dataframe tbody tr th:only-of-type {\n        vertical-align: middle;\n    }\n\n    .dataframe tbody tr th {\n        vertical-align: top;\n    }\n\n    .dataframe thead th {\n        text-align: right;\n    }\n</style>\n<table border=\"1\" class=\"dataframe\">\n  <thead>\n    <tr style=\"text-align: right;\">\n      <th></th>\n      <th>AMD</th>\n      <th>NVDA</th>\n    </tr>\n    <tr>\n      <th>Date</th>\n      <th></th>\n      <th></th>\n    </tr>\n  </thead>\n  <tbody>\n    <tr>\n      <th>2018-01-31</th>\n      <td>0.000000</td>\n      <td>0.000000</td>\n    </tr>\n    <tr>\n      <th>2018-02-28</th>\n      <td>-0.118632</td>\n      <td>-0.014848</td>\n    </tr>\n    <tr>\n      <th>2018-03-31</th>\n      <td>-0.268559</td>\n      <td>-0.057226</td>\n    </tr>\n    <tr>\n      <th>2018-04-30</th>\n      <td>-0.208151</td>\n      <td>-0.084460</td>\n    </tr>\n    <tr>\n      <th>2018-05-31</th>\n      <td>-0.000728</td>\n      <td>0.000000</td>\n    </tr>\n  </tbody>\n</table>\n</div>"
          },
          "metadata": {}
        }
      ],
      "execution_count": 8,
      "metadata": {
        "collapsed": true,
        "jupyter": {
          "source_hidden": false,
          "outputs_hidden": false
        },
        "nteract": {
          "transient": {
            "deleting": false
          }
        },
        "execution": {
          "iopub.status.busy": "2023-10-01T06:01:34.307Z",
          "iopub.execute_input": "2023-10-01T06:01:34.310Z",
          "iopub.status.idle": "2023-10-01T06:01:34.319Z",
          "shell.execute_reply": "2023-10-01T06:01:34.375Z"
        }
      }
    },
    {
      "cell_type": "code",
      "source": [
        "average_drawdown = Drawdowns.mean()\n",
        "min_drawdown = Drawdowns.min()\n",
        "max_drawdown = Drawdowns.max()\n",
        "standard_error = returns.std() / np.sqrt(len(df))\n",
        "standard_deviation = returns.std()\n",
        "confidence_level = 0.95\n",
        "alpha = 1 - confidence_level\n",
        "\n",
        "# Calculate VaR\n",
        "var = returns.quantile(alpha)\n",
        "\n",
        "# Calculate Conditional Value at Risk (CVaR)\n",
        "cvar = returns[returns <= var].mean()\n",
        "\n",
        "initial_investment = 5000 # Replace with your desired initial investment amount\n",
        "var_amount = initial_investment * var"
      ],
      "outputs": [],
      "execution_count": 9,
      "metadata": {
        "collapsed": true,
        "jupyter": {
          "source_hidden": false,
          "outputs_hidden": false
        },
        "nteract": {
          "transient": {
            "deleting": false
          }
        },
        "execution": {
          "iopub.status.busy": "2023-10-01T06:01:34.325Z",
          "iopub.execute_input": "2023-10-01T06:01:34.328Z",
          "iopub.status.idle": "2023-10-01T06:01:34.334Z",
          "shell.execute_reply": "2023-10-01T06:01:34.379Z"
        }
      }
    },
    {
      "cell_type": "code",
      "source": [
        "# Print the results for each stock\n",
        "for symbol in symbols:\n",
        "    print(f\"Stock Symbol: {symbol}\")\n",
        "    print(f\"Average Drawdown: {average_drawdown[symbol]:.4f}\")\n",
        "    print(f\"Min Drawdown: {min_drawdown[symbol]:.4f}\")\n",
        "    print(f\"Max Drawdown: {max_drawdown[symbol]:.4f}\")\n",
        "    print(f\"Standard Error: {standard_error[symbol]:.4f}\")\n",
        "    print(f\"Standard Deviation: {standard_deviation[symbol]:.4f}\")\n",
        "    print(f\"VaR ({confidence_level*100}% Confidence): {var[symbol]*100:.4f}%\")\n",
        "    print(f\"CVaR ({confidence_level*100}% Confidence): {cvar[symbol]*100:.4f}%\")\n",
        "    print(f\"VaR Amount for {initial_investment} USD: {var_amount[symbol]:.2f} USD\")\n",
        "    print(\"\\n\")"
      ],
      "outputs": [
        {
          "output_type": "stream",
          "name": "stdout",
          "text": [
            "Stock Symbol: AMD\n",
            "Average Drawdown: -0.1755\n",
            "Min Drawdown: -0.6208\n",
            "Max Drawdown: 0.0000\n",
            "Standard Error: 0.0045\n",
            "Standard Deviation: 0.1682\n",
            "VaR (95.0% Confidence): -21.4311%\n",
            "CVaR (95.0% Confidence): -28.2763%\n",
            "VaR Amount for 5000 USD: -1071.55 USD\n",
            "\n",
            "\n",
            "Stock Symbol: NVDA\n",
            "Average Drawdown: -0.1907\n",
            "Min Drawdown: -0.6282\n",
            "Max Drawdown: 0.0000\n",
            "Standard Error: 0.0039\n",
            "Standard Deviation: 0.1464\n",
            "VaR (95.0% Confidence): -21.5495%\n",
            "CVaR (95.0% Confidence): -26.1210%\n",
            "VaR Amount for 5000 USD: -1077.48 USD\n",
            "\n",
            "\n"
          ]
        }
      ],
      "execution_count": 10,
      "metadata": {
        "collapsed": true,
        "jupyter": {
          "source_hidden": false,
          "outputs_hidden": false
        },
        "nteract": {
          "transient": {
            "deleting": false
          }
        },
        "execution": {
          "iopub.status.busy": "2023-10-01T06:01:34.340Z",
          "iopub.execute_input": "2023-10-01T06:01:34.343Z",
          "iopub.status.idle": "2023-10-01T06:01:34.352Z",
          "shell.execute_reply": "2023-10-01T06:01:34.381Z"
        }
      }
    }
  ],
  "metadata": {
    "kernel_info": {
      "name": "python3"
    },
    "language_info": {
      "name": "python",
      "version": "3.7.6",
      "mimetype": "text/x-python",
      "codemirror_mode": {
        "name": "ipython",
        "version": 3
      },
      "pygments_lexer": "ipython3",
      "nbconvert_exporter": "python",
      "file_extension": ".py"
    },
    "kernelspec": {
      "argv": [
        "C:/Users/Tin Hang/anaconda3\\python.exe",
        "-m",
        "ipykernel_launcher",
        "-f",
        "{connection_file}"
      ],
      "display_name": "Python 3",
      "language": "python",
      "name": "python3"
    },
    "nteract": {
      "version": "0.28.0"
    }
  },
  "nbformat": 4,
  "nbformat_minor": 0
}