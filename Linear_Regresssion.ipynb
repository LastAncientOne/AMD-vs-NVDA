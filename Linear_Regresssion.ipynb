{
  "cells": [
    {
      "cell_type": "markdown",
      "source": [
        "# Linear Regression "
      ],
      "metadata": {
        "nteract": {
          "transient": {
            "deleting": false
          }
        }
      }
    },
    {
      "cell_type": "markdown",
      "source": [
        "### Linear regression is a fundamental statistical technique used for modeling and analyzing the relationship between a dependent variable (often referred to as the target or outcome) and one or more independent variables (predictors or features). It assumes a linear relationship, meaning that changes in the predictor variables are associated with proportional changes in the dependent variable. The goal of linear regression is to find the best-fitting line (the linear equation) that minimizes the difference between the predicted values and the actual data points, typically done by minimizing the sum of squared differences (residuals). This line can be used to make predictions or understand the strength and direction of the relationships between variables."
      ],
      "metadata": {
        "nteract": {
          "transient": {
            "deleting": false
          }
        }
      }
    },
    {
      "cell_type": "code",
      "source": [
        "import warnings\n",
        "warnings.filterwarnings(\"ignore\")\n",
        "\n",
        "import numpy as np\n",
        "import pandas as pd\n",
        "import seaborn as sns\n",
        "import yfinance as yf\n",
        "from scipy import stats\n",
        "import matplotlib.pyplot as plt\n",
        "\n",
        "# yahoo finance is used to fetch data \n",
        "import yfinance as yf\n",
        "yf.pdr_override()"
      ],
      "outputs": [],
      "execution_count": 1,
      "metadata": {
        "collapsed": true,
        "jupyter": {
          "source_hidden": false,
          "outputs_hidden": false
        },
        "nteract": {
          "transient": {
            "deleting": false
          }
        },
        "execution": {
          "iopub.status.busy": "2023-10-05T01:35:49.877Z",
          "iopub.execute_input": "2023-10-05T01:35:49.882Z",
          "shell.execute_reply": "2023-10-05T01:35:50.755Z",
          "iopub.status.idle": "2023-10-05T01:35:50.761Z"
        }
      }
    },
    {
      "cell_type": "code",
      "source": [
        "# input\n",
        "# Technology Companies\n",
        "symbols = ['AMD','NVDA'] \n",
        "market = ['^GSPC']\n",
        "start = '2018-01-01'\n",
        "end = '2023-08-01'"
      ],
      "outputs": [],
      "execution_count": 2,
      "metadata": {
        "collapsed": true,
        "jupyter": {
          "source_hidden": false,
          "outputs_hidden": false
        },
        "nteract": {
          "transient": {
            "deleting": false
          }
        },
        "execution": {
          "iopub.status.busy": "2023-10-05T01:35:50.765Z",
          "iopub.execute_input": "2023-10-05T01:35:50.768Z",
          "iopub.status.idle": "2023-10-05T01:35:50.775Z",
          "shell.execute_reply": "2023-10-05T01:35:50.790Z"
        }
      }
    },
    {
      "cell_type": "code",
      "source": [
        "df = yf.download(symbols, start, end)\n",
        "benchmark = yf.download(market, start, end)"
      ],
      "outputs": [
        {
          "output_type": "stream",
          "name": "stdout",
          "text": [
            "[*********************100%***********************]  2 of 2 completed\n",
            "[*********************100%***********************]  1 of 1 completed\n"
          ]
        }
      ],
      "execution_count": 3,
      "metadata": {
        "collapsed": true,
        "jupyter": {
          "source_hidden": false,
          "outputs_hidden": false
        },
        "nteract": {
          "transient": {
            "deleting": false
          }
        },
        "execution": {
          "iopub.status.busy": "2023-10-05T01:35:50.780Z",
          "iopub.execute_input": "2023-10-05T01:35:50.783Z",
          "iopub.status.idle": "2023-10-05T01:35:51.431Z",
          "shell.execute_reply": "2023-10-05T01:35:51.447Z"
        }
      }
    },
    {
      "cell_type": "code",
      "source": [
        "# Resample the data to monthly frequency\n",
        "df_monthly = df['Adj Close'].resample('M').ffill()\n",
        "benchmark_monthly = benchmark['Adj Close'].resample('M').ffill()\n"
      ],
      "outputs": [],
      "execution_count": 4,
      "metadata": {
        "collapsed": true,
        "jupyter": {
          "source_hidden": false,
          "outputs_hidden": false
        },
        "nteract": {
          "transient": {
            "deleting": false
          }
        },
        "execution": {
          "iopub.status.busy": "2023-10-05T01:35:51.435Z",
          "iopub.execute_input": "2023-10-05T01:35:51.440Z",
          "shell.execute_reply": "2023-10-05T01:35:51.450Z",
          "iopub.status.idle": "2023-10-05T01:35:51.456Z"
        }
      }
    },
    {
      "cell_type": "code",
      "source": [
        "# Function to perform linear regression and calculate metrics\n",
        "def perform_linear_regression(symbol_data, benchmark_data, symbol_name):\n",
        "    slope, intercept, r_value, p_value, std_err = stats.linregress(benchmark_data, symbol_data)\n",
        "    regression_line = intercept + slope * benchmark_data\n",
        "\n",
        "    # Plot the linear regression\n",
        "    plt.figure(figsize=(10, 6))\n",
        "    plt.scatter(benchmark_data, symbol_data, label=f'{symbol_name} vs. {market[0]}')\n",
        "    plt.plot(benchmark_data, regression_line, color='red', label='Linear Regression Line')\n",
        "    plt.title(f'Linear Regression for {symbol_name} vs. {market[0]}')\n",
        "    plt.xlabel(f'{market[0]}')\n",
        "    plt.ylabel(symbol_name)\n",
        "    plt.legend()\n",
        "    plt.grid(True)\n",
        "    plt.show()\n",
        "\n",
        "    # Calculate metrics\n",
        "    residuals = symbol_data - regression_line\n",
        "    mae = np.mean(np.abs(residuals))\n",
        "    mse = np.mean(residuals ** 2)\n",
        "    rmse = np.sqrt(mse)\n",
        "    r_squared = r_value ** 2\n",
        "\n",
        "    # Calculate adjusted R-squared\n",
        "    n = len(benchmark_data)\n",
        "    k = 2  # Number of predictors (including the intercept)\n",
        "    adj_r_squared = 1 - (1 - r_squared) * (n - 1) / (n - k - 1)\n",
        "\n",
        "    return {\n",
        "        'Symbol': symbol_name,\n",
        "        'MAE': mae,\n",
        "        'MSE': mse,\n",
        "        'RMSE': rmse,\n",
        "        'R-squared': r_squared,\n",
        "        'Adjusted R-squared': adj_r_squared\n",
        "    }\n",
        "\n",
        "# Initialize a list to store the results\n",
        "results = []\n",
        "\n",
        "# Perform linear regression and calculate metrics for each symbol\n",
        "for symbol in symbols:\n",
        "    result = perform_linear_regression(df_monthly[symbol], benchmark_monthly, symbol)\n",
        "    results.append(result)\n",
        "\n",
        "# Create a DataFrame from the results\n",
        "results_df = pd.DataFrame(results)\n",
        "\n",
        "# Print the DataFrame\n",
        "print(results_df)"
      ],
      "outputs": [
        {
          "output_type": "display_data",
          "data": {
            "text/plain": "<Figure size 720x432 with 1 Axes>",
            "image/png": "[encoded data removed]"
          },
          "metadata": {
            "needs_background": "light"
          }
        },
        {
          "output_type": "display_data",
          "data": {
            "text/plain": "<Figure size 720x432 with 1 Axes>",
            "image/png": "[encoded data removed]"
          },
          "metadata": {
            "needs_background": "light"
          }
        },
        {
          "output_type": "stream",
          "name": "stdout",
          "text": [
            "  Symbol        MAE          MSE       RMSE  R-squared  Adjusted R-squared\n",
            "0    AMD  10.261576   170.497061  13.057452   0.876901            0.873054\n",
            "1   NVDA  33.009675  2302.528439  47.984669   0.764164            0.756795\n"
          ]
        }
      ],
      "execution_count": 5,
      "metadata": {
        "collapsed": true,
        "jupyter": {
          "source_hidden": false,
          "outputs_hidden": false
        },
        "nteract": {
          "transient": {
            "deleting": false
          }
        },
        "execution": {
          "iopub.status.busy": "2023-10-05T01:35:51.460Z",
          "iopub.execute_input": "2023-10-05T01:35:51.462Z",
          "iopub.status.idle": "2023-10-05T01:35:51.725Z",
          "shell.execute_reply": "2023-10-05T01:35:51.752Z"
        }
      }
    },
    {
      "cell_type": "code",
      "source": [
        "\n",
        "# Calculation prediction for each symbol and print DataFrame of actual and prediction\n",
        "for symbol in symbols:\n",
        "    slope, intercept, _, _, _ = stats.linregress(benchmark_monthly, df_monthly[symbol])\n",
        "    predictions = intercept + slope * benchmark_monthly\n",
        "    prediction_df = pd.DataFrame({'Actual': df_monthly[symbol], 'Prediction': predictions})\n",
        "    prediction_df['Difference'] = prediction_df['Actual'] - prediction_df['Prediction']\n",
        "    print(f'Predictions for {symbol}:\\n', prediction_df)\n",
        "\n"
      ],
      "outputs": [
        {
          "output_type": "stream",
          "name": "stdout",
          "text": [
            "Predictions for AMD:\n",
            "                 Actual  Prediction  Difference\n",
            "Date                                          \n",
            "2018-01-31   13.740000   28.782381  -15.042381\n",
            "2018-02-28   12.110000   23.103001  -10.993001\n",
            "2018-03-31   10.050000   19.335339   -9.285339\n",
            "2018-04-30   10.880000   19.706112   -8.826112\n",
            "2018-05-31   13.730000   22.660958   -8.930959\n",
            "...                ...         ...         ...\n",
            "2023-03-31   98.010002   95.165764    2.844238\n",
            "2023-04-30   89.370003   98.272946   -8.902943\n",
            "2023-05-31  118.209999   98.807427   19.402573\n",
            "2023-06-30  113.910004  112.778653    1.131351\n",
            "2023-07-31  114.400002  119.934946   -5.534944\n",
            "\n",
            "[67 rows x 3 columns]\n",
            "Predictions for NVDA:\n",
            "                 Actual  Prediction  Difference\n",
            "Date                                          \n",
            "2018-01-31   60.808376   47.909657   12.898720\n",
            "2018-02-28   59.905487   33.833430   26.072057\n",
            "2018-03-31   57.328564   24.495358   32.833205\n",
            "2018-04-30   55.672504   25.414310   30.258194\n",
            "2018-05-31   62.466568   32.737837   29.728731\n",
            "...                ...         ...         ...\n",
            "2023-03-31  277.718353  212.439504   65.278849\n",
            "2023-04-30  277.438416  220.140592   57.297824\n",
            "2023-05-31  378.269684  221.465291  156.804393\n",
            "2023-06-30  422.985138  256.092687  166.892451\n",
            "2023-07-31  467.251526  273.829411  193.422115\n",
            "\n",
            "[67 rows x 3 columns]\n"
          ]
        }
      ],
      "execution_count": 6,
      "metadata": {
        "collapsed": true,
        "jupyter": {
          "source_hidden": false,
          "outputs_hidden": false
        },
        "nteract": {
          "transient": {
            "deleting": false
          }
        },
        "execution": {
          "iopub.status.busy": "2023-10-05T01:35:51.732Z",
          "iopub.execute_input": "2023-10-05T01:35:51.736Z",
          "iopub.status.idle": "2023-10-05T01:35:51.744Z",
          "shell.execute_reply": "2023-10-05T01:35:51.754Z"
        }
      }
    }
  ],
  "metadata": {
    "kernel_info": {
      "name": "python3"
    },
    "language_info": {
      "name": "python",
      "version": "3.7.6",
      "mimetype": "text/x-python",
      "codemirror_mode": {
        "name": "ipython",
        "version": 3
      },
      "pygments_lexer": "ipython3",
      "nbconvert_exporter": "python",
      "file_extension": ".py"
    },
    "kernelspec": {
      "argv": [
        "C:/Users/Tin Hang/anaconda3\\python.exe",
        "-m",
        "ipykernel_launcher",
        "-f",
        "{connection_file}"
      ],
      "display_name": "Python 3",
      "language": "python",
      "name": "python3"
    },
    "nteract": {
      "version": "0.28.0"
    }
  },
  "nbformat": 4,
  "nbformat_minor": 0
}